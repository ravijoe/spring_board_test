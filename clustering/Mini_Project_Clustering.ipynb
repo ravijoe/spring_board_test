{
 "cells": [
  {
   "cell_type": "markdown",
   "metadata": {},
   "source": [
    "# Customer Segmentation using Clustering\n",
    "***\n",
    "This mini-project is based on [this blog post](http://blog.yhat.com/posts/customer-segmentation-using-python.html) by yhat. Please feel free to refer to the post for additional information, and solutions."
   ]
  },
  {
   "cell_type": "code",
   "execution_count": 1,
   "metadata": {},
   "outputs": [],
   "source": [
    "%matplotlib inline\n",
    "import pandas as pd\n",
    "import sklearn\n",
    "import matplotlib.pyplot as plt\n",
    "import seaborn as sns\n",
    "\n",
    "# Setup Seaborn\n",
    "sns.set_style(\"whitegrid\")\n",
    "sns.set_context(\"poster\")"
   ]
  },
  {
   "cell_type": "code",
   "execution_count": 4,
   "metadata": {},
   "outputs": [
    {
     "name": "stdout",
     "output_type": "stream",
     "text": [
      "Collecting xlrd\n",
      "  Downloading https://files.pythonhosted.org/packages/b0/16/63576a1a001752e34bf8ea62e367997530dc553b689356b9879339cf45a4/xlrd-1.2.0-py2.py3-none-any.whl (103kB)\n",
      "Installing collected packages: xlrd\n",
      "Successfully installed xlrd-1.2.0\n",
      "Note: you may need to restart the kernel to use updated packages.\n"
     ]
    },
    {
     "name": "stderr",
     "output_type": "stream",
     "text": [
      "WARNING: You are using pip version 19.1.1, however version 19.3.1 is available.\n",
      "You should consider upgrading via the 'python -m pip install --upgrade pip' command.\n"
     ]
    }
   ],
   "source": [
    "pip install xlrd"
   ]
  },
  {
   "cell_type": "markdown",
   "metadata": {},
   "source": [
    "## Data\n",
    "\n",
    "The dataset contains information on marketing newsletters/e-mail campaigns (e-mail offers sent to customers) and transaction level data from customers. The transactional data shows which offer customers responded to, and what the customer ended up buying. The data is presented as an Excel workbook containing two worksheets. Each worksheet contains a different dataset."
   ]
  },
  {
   "cell_type": "code",
   "execution_count": 2,
   "metadata": {},
   "outputs": [
    {
     "name": "stderr",
     "output_type": "stream",
     "text": [
      "c:\\users\\ravi\\appdata\\local\\programs\\python\\python36\\lib\\site-packages\\pandas\\util\\_decorators.py:188: FutureWarning: The `sheetname` keyword is deprecated, use `sheet_name` instead\n",
      "  return func(*args, **kwargs)\n"
     ]
    },
    {
     "data": {
      "text/html": [
       "<div>\n",
       "<style scoped>\n",
       "    .dataframe tbody tr th:only-of-type {\n",
       "        vertical-align: middle;\n",
       "    }\n",
       "\n",
       "    .dataframe tbody tr th {\n",
       "        vertical-align: top;\n",
       "    }\n",
       "\n",
       "    .dataframe thead th {\n",
       "        text-align: right;\n",
       "    }\n",
       "</style>\n",
       "<table border=\"1\" class=\"dataframe\">\n",
       "  <thead>\n",
       "    <tr style=\"text-align: right;\">\n",
       "      <th></th>\n",
       "      <th>offer_id</th>\n",
       "      <th>campaign</th>\n",
       "      <th>varietal</th>\n",
       "      <th>min_qty</th>\n",
       "      <th>discount</th>\n",
       "      <th>origin</th>\n",
       "      <th>past_peak</th>\n",
       "    </tr>\n",
       "  </thead>\n",
       "  <tbody>\n",
       "    <tr>\n",
       "      <th>0</th>\n",
       "      <td>1</td>\n",
       "      <td>January</td>\n",
       "      <td>Malbec</td>\n",
       "      <td>72</td>\n",
       "      <td>56</td>\n",
       "      <td>France</td>\n",
       "      <td>False</td>\n",
       "    </tr>\n",
       "    <tr>\n",
       "      <th>1</th>\n",
       "      <td>2</td>\n",
       "      <td>January</td>\n",
       "      <td>Pinot Noir</td>\n",
       "      <td>72</td>\n",
       "      <td>17</td>\n",
       "      <td>France</td>\n",
       "      <td>False</td>\n",
       "    </tr>\n",
       "    <tr>\n",
       "      <th>2</th>\n",
       "      <td>3</td>\n",
       "      <td>February</td>\n",
       "      <td>Espumante</td>\n",
       "      <td>144</td>\n",
       "      <td>32</td>\n",
       "      <td>Oregon</td>\n",
       "      <td>True</td>\n",
       "    </tr>\n",
       "    <tr>\n",
       "      <th>3</th>\n",
       "      <td>4</td>\n",
       "      <td>February</td>\n",
       "      <td>Champagne</td>\n",
       "      <td>72</td>\n",
       "      <td>48</td>\n",
       "      <td>France</td>\n",
       "      <td>True</td>\n",
       "    </tr>\n",
       "    <tr>\n",
       "      <th>4</th>\n",
       "      <td>5</td>\n",
       "      <td>February</td>\n",
       "      <td>Cabernet Sauvignon</td>\n",
       "      <td>144</td>\n",
       "      <td>44</td>\n",
       "      <td>New Zealand</td>\n",
       "      <td>True</td>\n",
       "    </tr>\n",
       "  </tbody>\n",
       "</table>\n",
       "</div>"
      ],
      "text/plain": [
       "   offer_id  campaign            varietal  min_qty  discount       origin  \\\n",
       "0         1   January              Malbec       72        56       France   \n",
       "1         2   January          Pinot Noir       72        17       France   \n",
       "2         3  February           Espumante      144        32       Oregon   \n",
       "3         4  February           Champagne       72        48       France   \n",
       "4         5  February  Cabernet Sauvignon      144        44  New Zealand   \n",
       "\n",
       "   past_peak  \n",
       "0      False  \n",
       "1      False  \n",
       "2       True  \n",
       "3       True  \n",
       "4       True  "
      ]
     },
     "execution_count": 2,
     "metadata": {},
     "output_type": "execute_result"
    }
   ],
   "source": [
    "df_offers = pd.read_excel(\"./WineKMC.xlsx\", sheetname=0)\n",
    "df_offers.columns = [\"offer_id\", \"campaign\", \"varietal\", \"min_qty\", \"discount\", \"origin\", \"past_peak\"]\n",
    "df_offers.head()"
   ]
  },
  {
   "cell_type": "markdown",
   "metadata": {},
   "source": [
    "We see that the first dataset contains information about each offer such as the month it is in effect and several attributes about the wine that the offer refers to: the variety, minimum quantity, discount, country of origin and whether or not it is past peak. The second dataset in the second worksheet contains transactional data -- which offer each customer responded to."
   ]
  },
  {
   "cell_type": "code",
   "execution_count": 3,
   "metadata": {},
   "outputs": [
    {
     "data": {
      "text/html": [
       "<div>\n",
       "<style scoped>\n",
       "    .dataframe tbody tr th:only-of-type {\n",
       "        vertical-align: middle;\n",
       "    }\n",
       "\n",
       "    .dataframe tbody tr th {\n",
       "        vertical-align: top;\n",
       "    }\n",
       "\n",
       "    .dataframe thead th {\n",
       "        text-align: right;\n",
       "    }\n",
       "</style>\n",
       "<table border=\"1\" class=\"dataframe\">\n",
       "  <thead>\n",
       "    <tr style=\"text-align: right;\">\n",
       "      <th></th>\n",
       "      <th>customer_name</th>\n",
       "      <th>offer_id</th>\n",
       "      <th>n</th>\n",
       "    </tr>\n",
       "  </thead>\n",
       "  <tbody>\n",
       "    <tr>\n",
       "      <th>0</th>\n",
       "      <td>Smith</td>\n",
       "      <td>2</td>\n",
       "      <td>1</td>\n",
       "    </tr>\n",
       "    <tr>\n",
       "      <th>1</th>\n",
       "      <td>Smith</td>\n",
       "      <td>24</td>\n",
       "      <td>1</td>\n",
       "    </tr>\n",
       "    <tr>\n",
       "      <th>2</th>\n",
       "      <td>Johnson</td>\n",
       "      <td>17</td>\n",
       "      <td>1</td>\n",
       "    </tr>\n",
       "    <tr>\n",
       "      <th>3</th>\n",
       "      <td>Johnson</td>\n",
       "      <td>24</td>\n",
       "      <td>1</td>\n",
       "    </tr>\n",
       "    <tr>\n",
       "      <th>4</th>\n",
       "      <td>Johnson</td>\n",
       "      <td>26</td>\n",
       "      <td>1</td>\n",
       "    </tr>\n",
       "  </tbody>\n",
       "</table>\n",
       "</div>"
      ],
      "text/plain": [
       "  customer_name  offer_id  n\n",
       "0         Smith         2  1\n",
       "1         Smith        24  1\n",
       "2       Johnson        17  1\n",
       "3       Johnson        24  1\n",
       "4       Johnson        26  1"
      ]
     },
     "execution_count": 3,
     "metadata": {},
     "output_type": "execute_result"
    }
   ],
   "source": [
    "df_transactions = pd.read_excel(\"./WineKMC.xlsx\", sheetname=1)\n",
    "df_transactions.columns = [\"customer_name\", \"offer_id\"]\n",
    "df_transactions['n'] = 1\n",
    "df_transactions.head()"
   ]
  },
  {
   "cell_type": "markdown",
   "metadata": {},
   "source": [
    "## Data wrangling"
   ]
  },
  {
   "cell_type": "markdown",
   "metadata": {},
   "source": [
    "We're trying to learn more about how our customers behave, so we can use their behavior (whether or not they purchased something based on an offer) as a way to group similar minded customers together. We can then study those groups to look for patterns and trends which can help us formulate future offers.\n",
    "\n",
    "The first thing we need is a way to compare customers. To do this, we're going to create a matrix that contains each customer and a 0/1 indicator for whether or not they responded to a given offer. "
   ]
  },
  {
   "cell_type": "markdown",
   "metadata": {},
   "source": [
    "<div class=\"span5 alert alert-info\">\n",
    "<h3>Checkup Exercise Set I</h3>\n",
    "\n",
    "<p><b>Exercise:</b> Create a data frame where each row has the following columns (Use the pandas [`merge`](http://pandas.pydata.org/pandas-docs/stable/generated/pandas.DataFrame.merge.html) and [`pivot_table`](http://pandas.pydata.org/pandas-docs/stable/generated/pandas.pivot_table.html) functions for this purpose):\n",
    "<ul>\n",
    "<li> customer_name\n",
    "<li> One column for each offer, with a 1 if the customer responded to the offer\n",
    "</ul>\n",
    "<p>Make sure you also deal with any weird values such as `NaN`. Read the documentation to develop your solution.</p>\n",
    "</div>"
   ]
  },
  {
   "cell_type": "code",
   "execution_count": 4,
   "metadata": {
    "scrolled": true
   },
   "outputs": [],
   "source": [
    "#your turn\n",
    "merged_df = df_transactions.merge(df_offers, on='offer_id', how='inner').loc[:,['customer_name','offer_id','n']]\n",
    "marketing_df = merged_df.pivot(index='customer_name',columns='offer_id',values='n')\n",
    "marketing_df = marketing_df.fillna(0)\n",
    "marketing_df = marketing_df.astype(int)\n",
    "marketing_df = marketing_df.reset_index()"
   ]
  },
  {
   "cell_type": "code",
   "execution_count": 5,
   "metadata": {},
   "outputs": [
    {
     "data": {
      "text/html": [
       "<div>\n",
       "<style scoped>\n",
       "    .dataframe tbody tr th:only-of-type {\n",
       "        vertical-align: middle;\n",
       "    }\n",
       "\n",
       "    .dataframe tbody tr th {\n",
       "        vertical-align: top;\n",
       "    }\n",
       "\n",
       "    .dataframe thead th {\n",
       "        text-align: right;\n",
       "    }\n",
       "</style>\n",
       "<table border=\"1\" class=\"dataframe\">\n",
       "  <thead>\n",
       "    <tr style=\"text-align: right;\">\n",
       "      <th>offer_id</th>\n",
       "      <th>customer_name</th>\n",
       "      <th>1</th>\n",
       "      <th>2</th>\n",
       "      <th>3</th>\n",
       "      <th>4</th>\n",
       "      <th>5</th>\n",
       "      <th>6</th>\n",
       "      <th>7</th>\n",
       "      <th>8</th>\n",
       "      <th>9</th>\n",
       "      <th>...</th>\n",
       "      <th>23</th>\n",
       "      <th>24</th>\n",
       "      <th>25</th>\n",
       "      <th>26</th>\n",
       "      <th>27</th>\n",
       "      <th>28</th>\n",
       "      <th>29</th>\n",
       "      <th>30</th>\n",
       "      <th>31</th>\n",
       "      <th>32</th>\n",
       "    </tr>\n",
       "  </thead>\n",
       "  <tbody>\n",
       "    <tr>\n",
       "      <th>0</th>\n",
       "      <td>Adams</td>\n",
       "      <td>0</td>\n",
       "      <td>0</td>\n",
       "      <td>0</td>\n",
       "      <td>0</td>\n",
       "      <td>0</td>\n",
       "      <td>0</td>\n",
       "      <td>0</td>\n",
       "      <td>0</td>\n",
       "      <td>0</td>\n",
       "      <td>...</td>\n",
       "      <td>0</td>\n",
       "      <td>0</td>\n",
       "      <td>0</td>\n",
       "      <td>0</td>\n",
       "      <td>0</td>\n",
       "      <td>0</td>\n",
       "      <td>1</td>\n",
       "      <td>1</td>\n",
       "      <td>0</td>\n",
       "      <td>0</td>\n",
       "    </tr>\n",
       "    <tr>\n",
       "      <th>1</th>\n",
       "      <td>Allen</td>\n",
       "      <td>0</td>\n",
       "      <td>0</td>\n",
       "      <td>0</td>\n",
       "      <td>0</td>\n",
       "      <td>0</td>\n",
       "      <td>0</td>\n",
       "      <td>0</td>\n",
       "      <td>0</td>\n",
       "      <td>1</td>\n",
       "      <td>...</td>\n",
       "      <td>0</td>\n",
       "      <td>0</td>\n",
       "      <td>0</td>\n",
       "      <td>0</td>\n",
       "      <td>1</td>\n",
       "      <td>0</td>\n",
       "      <td>0</td>\n",
       "      <td>0</td>\n",
       "      <td>0</td>\n",
       "      <td>0</td>\n",
       "    </tr>\n",
       "    <tr>\n",
       "      <th>2</th>\n",
       "      <td>Anderson</td>\n",
       "      <td>0</td>\n",
       "      <td>0</td>\n",
       "      <td>0</td>\n",
       "      <td>0</td>\n",
       "      <td>0</td>\n",
       "      <td>0</td>\n",
       "      <td>0</td>\n",
       "      <td>0</td>\n",
       "      <td>0</td>\n",
       "      <td>...</td>\n",
       "      <td>0</td>\n",
       "      <td>1</td>\n",
       "      <td>0</td>\n",
       "      <td>1</td>\n",
       "      <td>0</td>\n",
       "      <td>0</td>\n",
       "      <td>0</td>\n",
       "      <td>0</td>\n",
       "      <td>0</td>\n",
       "      <td>0</td>\n",
       "    </tr>\n",
       "    <tr>\n",
       "      <th>3</th>\n",
       "      <td>Bailey</td>\n",
       "      <td>0</td>\n",
       "      <td>0</td>\n",
       "      <td>0</td>\n",
       "      <td>0</td>\n",
       "      <td>0</td>\n",
       "      <td>0</td>\n",
       "      <td>1</td>\n",
       "      <td>0</td>\n",
       "      <td>0</td>\n",
       "      <td>...</td>\n",
       "      <td>0</td>\n",
       "      <td>0</td>\n",
       "      <td>0</td>\n",
       "      <td>0</td>\n",
       "      <td>0</td>\n",
       "      <td>0</td>\n",
       "      <td>0</td>\n",
       "      <td>1</td>\n",
       "      <td>0</td>\n",
       "      <td>0</td>\n",
       "    </tr>\n",
       "    <tr>\n",
       "      <th>4</th>\n",
       "      <td>Baker</td>\n",
       "      <td>0</td>\n",
       "      <td>0</td>\n",
       "      <td>0</td>\n",
       "      <td>0</td>\n",
       "      <td>0</td>\n",
       "      <td>0</td>\n",
       "      <td>1</td>\n",
       "      <td>0</td>\n",
       "      <td>0</td>\n",
       "      <td>...</td>\n",
       "      <td>0</td>\n",
       "      <td>0</td>\n",
       "      <td>0</td>\n",
       "      <td>0</td>\n",
       "      <td>0</td>\n",
       "      <td>0</td>\n",
       "      <td>0</td>\n",
       "      <td>0</td>\n",
       "      <td>1</td>\n",
       "      <td>0</td>\n",
       "    </tr>\n",
       "  </tbody>\n",
       "</table>\n",
       "<p>5 rows × 33 columns</p>\n",
       "</div>"
      ],
      "text/plain": [
       "offer_id customer_name  1  2  3  4  5  6  7  8  9  ...  23  24  25  26  27  \\\n",
       "0                Adams  0  0  0  0  0  0  0  0  0  ...   0   0   0   0   0   \n",
       "1                Allen  0  0  0  0  0  0  0  0  1  ...   0   0   0   0   1   \n",
       "2             Anderson  0  0  0  0  0  0  0  0  0  ...   0   1   0   1   0   \n",
       "3               Bailey  0  0  0  0  0  0  1  0  0  ...   0   0   0   0   0   \n",
       "4                Baker  0  0  0  0  0  0  1  0  0  ...   0   0   0   0   0   \n",
       "\n",
       "offer_id  28  29  30  31  32  \n",
       "0          0   1   1   0   0  \n",
       "1          0   0   0   0   0  \n",
       "2          0   0   0   0   0  \n",
       "3          0   0   1   0   0  \n",
       "4          0   0   0   1   0  \n",
       "\n",
       "[5 rows x 33 columns]"
      ]
     },
     "execution_count": 5,
     "metadata": {},
     "output_type": "execute_result"
    }
   ],
   "source": [
    "marketing_df.head()"
   ]
  },
  {
   "cell_type": "markdown",
   "metadata": {},
   "source": [
    "## K-Means Clustering\n",
    "\n",
    "Recall that in K-Means Clustering we want to *maximize* the distance between centroids and *minimize* the distance between data points and the respective centroid for the cluster they are in. True evaluation for unsupervised learning would require labeled data; however, we can use a variety of intuitive metrics to try to pick the number of clusters K. We will introduce two methods: the Elbow method, the Silhouette method and the gap statistic."
   ]
  },
  {
   "cell_type": "markdown",
   "metadata": {},
   "source": [
    "### Choosing K: The Elbow Sum-of-Squares Method\n",
    "\n",
    "The first method looks at the sum-of-squares error in each cluster against $K$. We compute the distance from each data point to the center of the cluster (centroid) to which the data point was assigned. \n",
    "\n",
    "$$SS = \\sum_k \\sum_{x_i \\in C_k} \\sum_{x_j \\in C_k} \\left( x_i - x_j \\right)^2 = \\sum_k \\sum_{x_i \\in C_k} \\left( x_i - \\mu_k \\right)^2$$\n",
    "\n",
    "where $x_i$ is a point, $C_k$ represents cluster $k$ and $\\mu_k$ is the centroid for cluster $k$. We can plot SS vs. $K$ and choose the *elbow point* in the plot as the best value for $K$. The elbow point is the point at which the plot starts descending much more slowly. "
   ]
  },
  {
   "cell_type": "markdown",
   "metadata": {},
   "source": [
    "<div class=\"span5 alert alert-info\">\n",
    "<h3>Checkup Exercise Set II</h3>\n",
    "\n",
    "<p><b>Exercise:</b></p> \n",
    "<ul>\n",
    "<li> What values of $SS$ do you believe represent better clusterings? Why?\n",
    "<li> Create a numpy matrix `x_cols` with only the columns representing the offers (i.e. the 0/1 colums) \n",
    "<li> Write code that applies the [`KMeans`](http://scikit-learn.org/stable/modules/generated/sklearn.cluster.KMeans.html) clustering method from scikit-learn to this matrix. \n",
    "<li> Construct a plot showing $SS$ for each $K$ and pick $K$ using this plot. For simplicity, test $2 \\le K \\le 10$.\n",
    "<li> Make a bar chart showing the number of points in each cluster for k-means under the best $K$.\n",
    "<li> What challenges did you experience using the Elbow method to pick $K$?\n",
    "</ul>\n",
    "</div>"
   ]
  },
  {
   "cell_type": "code",
   "execution_count": null,
   "metadata": {},
   "outputs": [],
   "source": [
    "# smaller values represent better clusters since it signifies points being more close hence well defined \n",
    "# clusters . "
   ]
  },
  {
   "cell_type": "code",
   "execution_count": 6,
   "metadata": {},
   "outputs": [],
   "source": [
    "x_cols = marketing_df.columns[1:]\n"
   ]
  },
  {
   "cell_type": "code",
   "execution_count": 12,
   "metadata": {},
   "outputs": [
    {
     "data": {
      "text/plain": [
       "Text(0, 0.5, 'Intertia')"
      ]
     },
     "execution_count": 12,
     "metadata": {},
     "output_type": "execute_result"
    },
    {
     "data": {
      "image/png": "[encoded data removed]",
      "text/plain": [
       "<Figure size 432x288 with 1 Axes>"
      ]
     },
     "metadata": {
      "needs_background": "light"
     },
     "output_type": "display_data"
    }
   ],
   "source": [
    "from sklearn.cluster import KMeans\n",
    "SS=[]\n",
    "K=[]\n",
    "for i in range(2,11):\n",
    "    model=KMeans(n_clusters=i).fit(marketing_df[x_cols])\n",
    "    K.append(i)\n",
    "    SS.append(model.inertia_)\n",
    "plt.bar(K,SS)\n",
    "plt.title('Cluster Intertias')\n",
    "plt.xlabel('Number of Clusters')\n",
    "plt.ylabel('Intertia')"
   ]
  },
  {
   "cell_type": "code",
   "execution_count": 41,
   "metadata": {},
   "outputs": [
    {
     "data": {
      "text/plain": [
       "Text(0, 0.5, 'Number of Customers')"
      ]
     },
     "execution_count": 41,
     "metadata": {},
     "output_type": "execute_result"
    },
    {
     "data": {
      "image/png": "[encoded data removed]",
      "text/plain": [
       "<Figure size 432x288 with 1 Axes>"
      ]
     },
     "metadata": {
      "needs_background": "light"
     },
     "output_type": "display_data"
    }
   ],
   "source": [
    "import numpy as np\n",
    "values = KMeans(n_clusters=5).fit_predict(marketing_df[x_cols])\n",
    "counts = np.bincount(values)\n",
    "\n",
    "plt.bar([0,1,2,3,4], counts)\n",
    "plt.xticks([0,1,2,3,4])\n",
    "plt.title('Customers per Cluster')\n",
    "plt.xlabel('Clusters')\n",
    "plt.ylabel('Number of Customers')"
   ]
  },
  {
   "cell_type": "code",
   "execution_count": 43,
   "metadata": {},
   "outputs": [
    {
     "data": {
      "text/plain": [
       "Text(0, 0.5, 'Number of Customers')"
      ]
     },
     "execution_count": 43,
     "metadata": {},
     "output_type": "execute_result"
    },
    {
     "data": {
      "image/png": "[encoded data removed]",
      "text/plain": [
       "<Figure size 432x288 with 1 Axes>"
      ]
     },
     "metadata": {
      "needs_background": "light"
     },
     "output_type": "display_data"
    }
   ],
   "source": [
    "import numpy as np\n",
    "values = KMeans(n_clusters=4).fit_predict(marketing_df[x_cols])\n",
    "counts = np.bincount(values)\n",
    "\n",
    "plt.bar([0,1,2,3], counts)\n",
    "plt.xticks([0,1,2,3])\n",
    "plt.title('Customers per Cluster')\n",
    "plt.xlabel('Clusters')\n",
    "plt.ylabel('Number of Customers')"
   ]
  },
  {
   "cell_type": "markdown",
   "metadata": {},
   "source": [
    "### Choosing K: The Silhouette Method\n",
    "\n",
    "There exists another method that measures how well each datapoint $x_i$ \"fits\" its assigned cluster *and also* how poorly it fits into other clusters. This is a different way of looking at the same objective. Denote $a_{x_i}$ as the *average* distance from $x_i$ to all other points within its own cluster $k$. The lower the value, the better. On the other hand $b_{x_i}$ is the minimum average distance from $x_i$ to points in a different cluster, minimized over clusters. That is, compute separately for each cluster the average distance from $x_i$ to the points within that cluster, and then take the minimum. The silhouette $s(x_i)$ is defined as\n",
    "\n",
    "$$s(x_i) = \\frac{b_{x_i} - a_{x_i}}{\\max{\\left( a_{x_i}, b_{x_i}\\right)}}$$\n",
    "\n",
    "The silhouette score is computed on *every datapoint in every cluster*. The silhouette score ranges from -1 (a poor clustering) to +1 (a very dense clustering) with 0 denoting the situation where clusters overlap. Some criteria for the silhouette coefficient is provided in the table below."
   ]
  },
  {
   "cell_type": "markdown",
   "metadata": {},
   "source": [
    "<pre>\n",
    "\n",
    "| Range       | Interpretation                                |\n",
    "|-------------|-----------------------------------------------|\n",
    "| 0.71 - 1.0  | A strong structure has been found.            |\n",
    "| 0.51 - 0.7  | A reasonable structure has been found.        |\n",
    "| 0.26 - 0.5  | The structure is weak and could be artificial.|\n",
    "| < 0.25      | No substantial structure has been found.      |\n",
    "\n",
    "</pre>\n",
    "Source: http://www.stat.berkeley.edu/~spector/s133/Clus.html"
   ]
  },
  {
   "cell_type": "markdown",
   "metadata": {},
   "source": [
    "Fortunately, scikit-learn provides a function to compute this for us (phew!) called [`sklearn.metrics.silhouette_score`](http://scikit-learn.org/stable/modules/generated/sklearn.metrics.silhouette_score.html). Take a look at [this article](http://scikit-learn.org/stable/auto_examples/cluster/plot_kmeans_silhouette_analysis.html) on picking $K$ in scikit-learn, as it will help you in the next exercise set."
   ]
  },
  {
   "cell_type": "markdown",
   "metadata": {},
   "source": [
    "<div class=\"span5 alert alert-info\">\n",
    "<h3>Checkup Exercise Set III</h3>\n",
    "\n",
    "<p><b>Exercise:</b> Using the documentation for the `silhouette_score` function above, construct a series of silhouette plots like the ones in the article linked above.</p>\n",
    "\n",
    "<p><b>Exercise:</b> Compute the average silhouette score for each $K$ and plot it. What $K$ does the plot suggest we should choose? Does it differ from what we found using the Elbow method?</p>\n",
    "</div>"
   ]
  },
  {
   "cell_type": "code",
   "execution_count": 44,
   "metadata": {},
   "outputs": [
    {
     "data": {
      "text/plain": [
       "Text(0, 0.5, 'Silhouette Scores')"
      ]
     },
     "execution_count": 44,
     "metadata": {},
     "output_type": "execute_result"
    },
    {
     "data": {
      "image/png": "[encoded data removed]",
      "text/plain": [
       "<Figure size 432x288 with 1 Axes>"
      ]
     },
     "metadata": {
      "needs_background": "light"
     },
     "output_type": "display_data"
    }
   ],
   "source": [
    "# Your turn.\n",
    "from sklearn.metrics import silhouette_score\n",
    "\n",
    "K = []\n",
    "silhouette_avg = []\n",
    "for i in range(2,11):\n",
    "    cluster_labels = KMeans(n_clusters=i).fit_predict(marketing_df[x_cols])\n",
    "    K.append(i)\n",
    "    silhouette_avg.append(silhouette_score(marketing_df[x_cols], cluster_labels))\n",
    "plt.bar(K,silhouette_avg)\n",
    "\n",
    "plt.title('Cluster Silhouette Scores')\n",
    "plt.xlabel('Number of Clusters')\n",
    "plt.ylabel('Silhouette Scores')    \n",
    "    "
   ]
  },
  {
   "cell_type": "markdown",
   "metadata": {},
   "source": [
    "### Choosing $K$: The Gap Statistic\n",
    "\n",
    "There is one last method worth covering for picking $K$, the so-called Gap statistic. The computation for the gap statistic builds on the sum-of-squares established in the Elbow method discussion, and compares it to the sum-of-squares of a \"null distribution,\" that is, a random set of points with no clustering. The estimate for the optimal number of clusters $K$ is the value for which $\\log{SS}$ falls the farthest below that of the reference distribution:\n",
    "\n",
    "$$G_k = E_n^*\\{\\log SS_k\\} - \\log SS_k$$\n",
    "\n",
    "In other words a good clustering yields a much larger difference between the reference distribution and the clustered data. The reference distribution is a Monte Carlo (randomization) procedure that constructs $B$ random distributions of points within the bounding box (limits) of the original data and then applies K-means to this synthetic distribution of data points.. $E_n^*\\{\\log SS_k\\}$ is just the average $SS_k$ over all $B$ replicates. We then compute the standard deviation $\\sigma_{SS}$ of the values of $SS_k$ computed from the $B$ replicates of the reference distribution and compute\n",
    "\n",
    "$$s_k = \\sqrt{1+1/B}\\sigma_{SS}$$\n",
    "\n",
    "Finally, we choose $K=k$ such that $G_k \\geq G_{k+1} - s_{k+1}$."
   ]
  },
  {
   "cell_type": "markdown",
   "metadata": {},
   "source": [
    "### Aside: Choosing $K$ when we Have Labels\n",
    "\n",
    "Unsupervised learning expects that we do not have the labels. In some situations, we may wish to cluster data that is labeled. Computing the optimal number of clusters is much easier if we have access to labels. There are several methods available. We will not go into the math or details since it is rare to have access to the labels, but we provide the names and references of these measures.\n",
    "\n",
    "* Adjusted Rand Index\n",
    "* Mutual Information\n",
    "* V-Measure\n",
    "* Fowlkes–Mallows index\n",
    "\n",
    "See [this article](http://scikit-learn.org/stable/modules/clustering.html) for more information about these metrics."
   ]
  },
  {
   "cell_type": "markdown",
   "metadata": {},
   "source": [
    "## Visualizing Clusters using PCA\n",
    "\n",
    "How do we visualize clusters? If we only had two features, we could likely plot the data as is. But we have 100 data points each containing 32 features (dimensions). Principal Component Analysis (PCA) will help us reduce the dimensionality of our data from 32 to something lower. For a visualization on the coordinate plane, we will use 2 dimensions. In this exercise, we're going to use it to transform our multi-dimensional dataset into a 2 dimensional dataset.\n",
    "\n",
    "This is only one use of PCA for dimension reduction. We can also use PCA when we want to perform regression but we have a set of highly correlated variables. PCA untangles these correlations into a smaller number of features/predictors all of which are orthogonal (not correlated). PCA is also used to reduce a large set of variables into a much smaller one."
   ]
  },
  {
   "cell_type": "markdown",
   "metadata": {},
   "source": [
    "<div class=\"span5 alert alert-info\">\n",
    "<h3>Checkup Exercise Set IV</h3>\n",
    "\n",
    "<p><b>Exercise:</b> Use PCA to plot your clusters:</p>\n",
    "\n",
    "<ul>\n",
    "<li> Use scikit-learn's [`PCA`](http://scikit-learn.org/stable/modules/generated/sklearn.decomposition.PCA.html) function to reduce the dimensionality of your clustering data to 2 components\n",
    "<li> Create a data frame with the following fields:\n",
    "  <ul>\n",
    "  <li> customer name\n",
    "  <li> cluster id the customer belongs to\n",
    "  <li> the two PCA components (label them `x` and `y`)\n",
    "  </ul>\n",
    "<li> Plot a scatterplot of the `x` vs `y` columns\n",
    "<li> Color-code points differently based on cluster ID\n",
    "<li> How do the clusters look? \n",
    "<li> Based on what you see, what seems to be the best value for $K$? Moreover, which method of choosing $K$ seems to have produced the optimal result visually?\n",
    "</ul>\n",
    "\n",
    "<p><b>Exercise:</b> Now look at both the original raw data about the offers and transactions and look at the fitted clusters. Tell a story about the clusters in context of the original data. For example, do the clusters correspond to wine variants or something else interesting?</p>\n",
    "</div>"
   ]
  },
  {
   "cell_type": "code",
   "execution_count": 13,
   "metadata": {},
   "outputs": [
    {
     "data": {
      "text/plain": [
       "array([[ 1.00757996,  0.10821467],\n",
       "       [-0.28753924,  0.04471451],\n",
       "       [-0.39203204,  1.03839141],\n",
       "       [ 0.69947727, -0.02254222],\n",
       "       [ 0.08818322, -0.47169543],\n",
       "       [-0.48528191, -0.72550329],\n",
       "       [-0.59194099,  1.50649994],\n",
       "       [ 0.66173153,  0.09030755],\n",
       "       [-0.11894327, -0.57749851],\n",
       "       [ 1.07982739, -0.00748818]])"
      ]
     },
     "execution_count": 13,
     "metadata": {},
     "output_type": "execute_result"
    }
   ],
   "source": [
    "#your turn\n",
    "from sklearn.decomposition import PCA\n",
    "\n",
    "pca = PCA(n_components=2)\n",
    "mark_2d = pca.fit_transform(marketing_df[x_cols])\n",
    "mark_2d[0:10,]\n"
   ]
  },
  {
   "cell_type": "markdown",
   "metadata": {},
   "source": [
    "What we've done is we've taken those columns of 0/1 indicator variables, and we've transformed them into a 2-D dataset. We took one column and arbitrarily called it `x` and then called the other `y`. Now we can throw each point into a scatterplot. We color coded each point based on it's cluster so it's easier to see them."
   ]
  },
  {
   "cell_type": "code",
   "execution_count": 23,
   "metadata": {},
   "outputs": [
    {
     "data": {
      "text/plain": [
       "<matplotlib.collections.PathCollection at 0x20d8e123ef0>"
      ]
     },
     "execution_count": 23,
     "metadata": {},
     "output_type": "execute_result"
    },
    {
     "data": {
      "image/png": "[encoded data removed]",
      "text/plain": [
       "<Figure size 432x288 with 1 Axes>"
      ]
     },
     "metadata": {
      "needs_background": "light"
     },
     "output_type": "display_data"
    }
   ],
   "source": [
    "plt.scatter(mark_2d[:,0],mark_2d[:,1],c=KMeans(n_clusters=5).fit_predict(marketing_df[x_cols]), cmap='jet')"
   ]
  },
  {
   "cell_type": "code",
   "execution_count": null,
   "metadata": {},
   "outputs": [],
   "source": [
    "# 4 clusters are there , but we can do better .."
   ]
  },
  {
   "cell_type": "code",
   "execution_count": 18,
   "metadata": {},
   "outputs": [],
   "source": [
    "labels = KMeans(n_clusters=5).fit_predict(marketing_df[x_cols])\n"
   ]
  },
  {
   "cell_type": "code",
   "execution_count": 19,
   "metadata": {},
   "outputs": [
    {
     "data": {
      "text/html": [
       "<div>\n",
       "<style scoped>\n",
       "    .dataframe tbody tr th:only-of-type {\n",
       "        vertical-align: middle;\n",
       "    }\n",
       "\n",
       "    .dataframe tbody tr th {\n",
       "        vertical-align: top;\n",
       "    }\n",
       "\n",
       "    .dataframe thead th {\n",
       "        text-align: right;\n",
       "    }\n",
       "</style>\n",
       "<table border=\"1\" class=\"dataframe\">\n",
       "  <thead>\n",
       "    <tr style=\"text-align: right;\">\n",
       "      <th></th>\n",
       "      <th>offer_id</th>\n",
       "      <th>campaign</th>\n",
       "      <th>varietal</th>\n",
       "      <th>min_qty</th>\n",
       "      <th>discount</th>\n",
       "      <th>origin</th>\n",
       "      <th>past_peak</th>\n",
       "    </tr>\n",
       "  </thead>\n",
       "  <tbody>\n",
       "    <tr>\n",
       "      <th>8</th>\n",
       "      <td>9</td>\n",
       "      <td>April</td>\n",
       "      <td>Chardonnay</td>\n",
       "      <td>144</td>\n",
       "      <td>57</td>\n",
       "      <td>Chile</td>\n",
       "      <td>False</td>\n",
       "    </tr>\n",
       "    <tr>\n",
       "      <th>10</th>\n",
       "      <td>11</td>\n",
       "      <td>May</td>\n",
       "      <td>Champagne</td>\n",
       "      <td>72</td>\n",
       "      <td>85</td>\n",
       "      <td>France</td>\n",
       "      <td>False</td>\n",
       "    </tr>\n",
       "    <tr>\n",
       "      <th>13</th>\n",
       "      <td>14</td>\n",
       "      <td>June</td>\n",
       "      <td>Merlot</td>\n",
       "      <td>72</td>\n",
       "      <td>64</td>\n",
       "      <td>Chile</td>\n",
       "      <td>False</td>\n",
       "    </tr>\n",
       "  </tbody>\n",
       "</table>\n",
       "</div>"
      ],
      "text/plain": [
       "    offer_id campaign    varietal  min_qty  discount  origin  past_peak\n",
       "8          9    April  Chardonnay      144        57   Chile      False\n",
       "10        11      May   Champagne       72        85  France      False\n",
       "13        14     June      Merlot       72        64   Chile      False"
      ]
     },
     "execution_count": 19,
     "metadata": {},
     "output_type": "execute_result"
    }
   ],
   "source": [
    "#Get the most commonly bought wines of the cluster\n",
    "top = marketing_df[labels == 0][x_cols].sum().nlargest(n = 3).index\n",
    "\n",
    "#Inspect them\n",
    "df_offers.loc[df_offers['offer_id'].isin(top),:]"
   ]
  },
  {
   "cell_type": "code",
   "execution_count": 20,
   "metadata": {},
   "outputs": [
    {
     "data": {
      "text/html": [
       "<div>\n",
       "<style scoped>\n",
       "    .dataframe tbody tr th:only-of-type {\n",
       "        vertical-align: middle;\n",
       "    }\n",
       "\n",
       "    .dataframe tbody tr th {\n",
       "        vertical-align: top;\n",
       "    }\n",
       "\n",
       "    .dataframe thead th {\n",
       "        text-align: right;\n",
       "    }\n",
       "</style>\n",
       "<table border=\"1\" class=\"dataframe\">\n",
       "  <thead>\n",
       "    <tr style=\"text-align: right;\">\n",
       "      <th></th>\n",
       "      <th>offer_id</th>\n",
       "      <th>campaign</th>\n",
       "      <th>varietal</th>\n",
       "      <th>min_qty</th>\n",
       "      <th>discount</th>\n",
       "      <th>origin</th>\n",
       "      <th>past_peak</th>\n",
       "    </tr>\n",
       "  </thead>\n",
       "  <tbody>\n",
       "    <tr>\n",
       "      <th>16</th>\n",
       "      <td>17</td>\n",
       "      <td>July</td>\n",
       "      <td>Pinot Noir</td>\n",
       "      <td>12</td>\n",
       "      <td>47</td>\n",
       "      <td>Germany</td>\n",
       "      <td>False</td>\n",
       "    </tr>\n",
       "    <tr>\n",
       "      <th>23</th>\n",
       "      <td>24</td>\n",
       "      <td>September</td>\n",
       "      <td>Pinot Noir</td>\n",
       "      <td>6</td>\n",
       "      <td>34</td>\n",
       "      <td>Italy</td>\n",
       "      <td>False</td>\n",
       "    </tr>\n",
       "    <tr>\n",
       "      <th>25</th>\n",
       "      <td>26</td>\n",
       "      <td>October</td>\n",
       "      <td>Pinot Noir</td>\n",
       "      <td>144</td>\n",
       "      <td>83</td>\n",
       "      <td>Australia</td>\n",
       "      <td>False</td>\n",
       "    </tr>\n",
       "  </tbody>\n",
       "</table>\n",
       "</div>"
      ],
      "text/plain": [
       "    offer_id   campaign    varietal  min_qty  discount     origin  past_peak\n",
       "16        17       July  Pinot Noir       12        47    Germany      False\n",
       "23        24  September  Pinot Noir        6        34      Italy      False\n",
       "25        26    October  Pinot Noir      144        83  Australia      False"
      ]
     },
     "execution_count": 20,
     "metadata": {},
     "output_type": "execute_result"
    }
   ],
   "source": [
    "#Get the most commonly bought wines of the cluster\n",
    "top = marketing_df[labels == 1][x_cols].sum().nlargest(n = 3).index\n",
    "\n",
    "#Inspect them\n",
    "df_offers.loc[df_offers['offer_id'].isin(top),:]"
   ]
  },
  {
   "cell_type": "code",
   "execution_count": 21,
   "metadata": {},
   "outputs": [
    {
     "data": {
      "text/html": [
       "<div>\n",
       "<style scoped>\n",
       "    .dataframe tbody tr th:only-of-type {\n",
       "        vertical-align: middle;\n",
       "    }\n",
       "\n",
       "    .dataframe tbody tr th {\n",
       "        vertical-align: top;\n",
       "    }\n",
       "\n",
       "    .dataframe thead th {\n",
       "        text-align: right;\n",
       "    }\n",
       "</style>\n",
       "<table border=\"1\" class=\"dataframe\">\n",
       "  <thead>\n",
       "    <tr style=\"text-align: right;\">\n",
       "      <th></th>\n",
       "      <th>offer_id</th>\n",
       "      <th>campaign</th>\n",
       "      <th>varietal</th>\n",
       "      <th>min_qty</th>\n",
       "      <th>discount</th>\n",
       "      <th>origin</th>\n",
       "      <th>past_peak</th>\n",
       "    </tr>\n",
       "  </thead>\n",
       "  <tbody>\n",
       "    <tr>\n",
       "      <th>6</th>\n",
       "      <td>7</td>\n",
       "      <td>March</td>\n",
       "      <td>Prosecco</td>\n",
       "      <td>6</td>\n",
       "      <td>40</td>\n",
       "      <td>Australia</td>\n",
       "      <td>True</td>\n",
       "    </tr>\n",
       "    <tr>\n",
       "      <th>28</th>\n",
       "      <td>29</td>\n",
       "      <td>November</td>\n",
       "      <td>Pinot Grigio</td>\n",
       "      <td>6</td>\n",
       "      <td>87</td>\n",
       "      <td>France</td>\n",
       "      <td>False</td>\n",
       "    </tr>\n",
       "    <tr>\n",
       "      <th>29</th>\n",
       "      <td>30</td>\n",
       "      <td>December</td>\n",
       "      <td>Malbec</td>\n",
       "      <td>6</td>\n",
       "      <td>54</td>\n",
       "      <td>France</td>\n",
       "      <td>False</td>\n",
       "    </tr>\n",
       "  </tbody>\n",
       "</table>\n",
       "</div>"
      ],
      "text/plain": [
       "    offer_id  campaign      varietal  min_qty  discount     origin  past_peak\n",
       "6          7     March      Prosecco        6        40  Australia       True\n",
       "28        29  November  Pinot Grigio        6        87     France      False\n",
       "29        30  December        Malbec        6        54     France      False"
      ]
     },
     "execution_count": 21,
     "metadata": {},
     "output_type": "execute_result"
    }
   ],
   "source": [
    "#Get the most commonly bought wines of the cluster\n",
    "top = marketing_df[labels == 2][x_cols].sum().nlargest(n = 3).index\n",
    "\n",
    "#Inspect them\n",
    "df_offers.loc[df_offers['offer_id'].isin(top),:]"
   ]
  },
  {
   "cell_type": "code",
   "execution_count": 22,
   "metadata": {},
   "outputs": [
    {
     "data": {
      "text/html": [
       "<div>\n",
       "<style scoped>\n",
       "    .dataframe tbody tr th:only-of-type {\n",
       "        vertical-align: middle;\n",
       "    }\n",
       "\n",
       "    .dataframe tbody tr th {\n",
       "        vertical-align: top;\n",
       "    }\n",
       "\n",
       "    .dataframe thead th {\n",
       "        text-align: right;\n",
       "    }\n",
       "</style>\n",
       "<table border=\"1\" class=\"dataframe\">\n",
       "  <thead>\n",
       "    <tr style=\"text-align: right;\">\n",
       "      <th></th>\n",
       "      <th>offer_id</th>\n",
       "      <th>campaign</th>\n",
       "      <th>varietal</th>\n",
       "      <th>min_qty</th>\n",
       "      <th>discount</th>\n",
       "      <th>origin</th>\n",
       "      <th>past_peak</th>\n",
       "    </tr>\n",
       "  </thead>\n",
       "  <tbody>\n",
       "    <tr>\n",
       "      <th>5</th>\n",
       "      <td>6</td>\n",
       "      <td>March</td>\n",
       "      <td>Prosecco</td>\n",
       "      <td>144</td>\n",
       "      <td>86</td>\n",
       "      <td>Chile</td>\n",
       "      <td>False</td>\n",
       "    </tr>\n",
       "    <tr>\n",
       "      <th>21</th>\n",
       "      <td>22</td>\n",
       "      <td>August</td>\n",
       "      <td>Champagne</td>\n",
       "      <td>72</td>\n",
       "      <td>63</td>\n",
       "      <td>France</td>\n",
       "      <td>False</td>\n",
       "    </tr>\n",
       "    <tr>\n",
       "      <th>30</th>\n",
       "      <td>31</td>\n",
       "      <td>December</td>\n",
       "      <td>Champagne</td>\n",
       "      <td>72</td>\n",
       "      <td>89</td>\n",
       "      <td>France</td>\n",
       "      <td>False</td>\n",
       "    </tr>\n",
       "  </tbody>\n",
       "</table>\n",
       "</div>"
      ],
      "text/plain": [
       "    offer_id  campaign   varietal  min_qty  discount  origin  past_peak\n",
       "5          6     March   Prosecco      144        86   Chile      False\n",
       "21        22    August  Champagne       72        63  France      False\n",
       "30        31  December  Champagne       72        89  France      False"
      ]
     },
     "execution_count": 22,
     "metadata": {},
     "output_type": "execute_result"
    }
   ],
   "source": [
    "#Get the most commonly bought wines of the cluster\n",
    "top = marketing_df[labels == 3][x_cols].sum().nlargest(n = 3).index\n",
    "\n",
    "#Inspect them\n",
    "df_offers.loc[df_offers['offer_id'].isin(top),:]"
   ]
  },
  {
   "cell_type": "markdown",
   "metadata": {},
   "source": [
    "<div class=\"span5 alert alert-info\">\n",
    "<h3>Exercise Set V</h3>\n",
    "\n",
    "<p>As we saw earlier, PCA has a lot of other uses. Since we wanted to visualize our data in 2 dimensions, restricted the number of dimensions to 2 in PCA. But what is the true optimal number of dimensions?</p>\n",
    "\n",
    "<p><b>Exercise:</b> Using a new PCA object shown in the next cell, plot the `explained_variance_` field and look for the elbow point, the point where the curve's rate of descent seems to slow sharply. This value is one possible value for the optimal number of dimensions. What is it?</p>\n",
    "</div>"
   ]
  },
  {
   "cell_type": "code",
   "execution_count": null,
   "metadata": {},
   "outputs": [],
   "source": []
  },
  {
   "cell_type": "code",
   "execution_count": 25,
   "metadata": {},
   "outputs": [
    {
     "data": {
      "text/plain": [
       "Text(0, 0.5, 'Explained Variance')"
      ]
     },
     "execution_count": 25,
     "metadata": {},
     "output_type": "execute_result"
    },
    {
     "data": {
      "image/png": "[encoded data removed]",
      "text/plain": [
       "<Figure size 432x288 with 1 Axes>"
      ]
     },
     "metadata": {
      "needs_background": "light"
     },
     "output_type": "display_data"
    }
   ],
   "source": [
    "#your turn\n",
    "# Initialize a new PCA model with a default number of components.\n",
    "import sklearn.decomposition\n",
    "pca = sklearn.decomposition.PCA()\n",
    "pca.fit(marketing_df[x_cols])\n",
    "\n",
    "# Do the rest on your own :)\n",
    "plt.bar([ i + 1 for i in range(pca.n_components_)],pca.explained_variance_ratio_)\n",
    "\n",
    "plt.title('Explained Variance per Principle Component')\n",
    "plt.xlabel('Principle Components')\n",
    "plt.ylabel('Explained Variance')"
   ]
  },
  {
   "cell_type": "code",
   "execution_count": null,
   "metadata": {},
   "outputs": [],
   "source": [
    "# we see after 2 the values start falling rapidly"
   ]
  },
  {
   "cell_type": "markdown",
   "metadata": {},
   "source": [
    "## Other Clustering Algorithms\n",
    "\n",
    "k-means is only one of a ton of clustering algorithms. Below is a brief description of several clustering algorithms, and the table provides references to the other clustering algorithms in scikit-learn. \n",
    "\n",
    "* **Affinity Propagation** does not require the number of clusters $K$ to be known in advance! AP uses a \"message passing\" paradigm to cluster points based on their similarity. \n",
    "\n",
    "* **Spectral Clustering** uses the eigenvalues of a similarity matrix to reduce the dimensionality of the data before clustering in a lower dimensional space. This is tangentially similar to what we did to visualize k-means clusters using PCA. The number of clusters must be known a priori.\n",
    "\n",
    "* **Ward's Method** applies to hierarchical clustering. Hierarchical clustering algorithms take a set of data and successively divide the observations into more and more clusters at each layer of the hierarchy. Ward's method is used to determine when two clusters in the hierarchy should be combined into one. It is basically an extension of hierarchical clustering. Hierarchical clustering is *divisive*, that is, all observations are part of the same cluster at first, and at each successive iteration, the clusters are made smaller and smaller. With hierarchical clustering, a hierarchy is constructed, and there is not really the concept of \"number of clusters.\" The number of clusters simply determines how low or how high in the hierarchy we reference and can be determined empirically or by looking at the [dendogram](https://docs.scipy.org/doc/scipy-0.18.1/reference/generated/scipy.cluster.hierarchy.dendrogram.html).\n",
    "\n",
    "* **Agglomerative Clustering** is similar to hierarchical clustering but but is not divisive, it is *agglomerative*. That is, every observation is placed into its own cluster and at each iteration or level or the hierarchy, observations are merged into fewer and fewer clusters until convergence. Similar to hierarchical clustering, the constructed hierarchy contains all possible numbers of clusters and it is up to the analyst to pick the number by reviewing statistics or the dendogram.\n",
    "\n",
    "* **DBSCAN** is based on point density rather than distance. It groups together points with many nearby neighbors. DBSCAN is one of the most cited algorithms in the literature. It does not require knowing the number of clusters a priori, but does require specifying the neighborhood size."
   ]
  },
  {
   "cell_type": "markdown",
   "metadata": {},
   "source": [
    "### Clustering Algorithms in Scikit-learn\n",
    "<table border=\"1\">\n",
    "<colgroup>\n",
    "<col width=\"15%\" />\n",
    "<col width=\"16%\" />\n",
    "<col width=\"20%\" />\n",
    "<col width=\"27%\" />\n",
    "<col width=\"22%\" />\n",
    "</colgroup>\n",
    "<thead valign=\"bottom\">\n",
    "<tr><th>Method name</th>\n",
    "<th>Parameters</th>\n",
    "<th>Scalability</th>\n",
    "<th>Use Case</th>\n",
    "<th>Geometry (metric used)</th>\n",
    "</tr>\n",
    "</thead>\n",
    "<tbody valign=\"top\">\n",
    "<tr><td>K-Means</span></a></td>\n",
    "<td>number of clusters</td>\n",
    "<td>Very large<span class=\"pre\">n_samples</span>, medium <span class=\"pre\">n_clusters</span> with\n",
    "MiniBatch code</td>\n",
    "<td>General-purpose, even cluster size, flat geometry, not too many clusters</td>\n",
    "<td>Distances between points</td>\n",
    "</tr>\n",
    "<tr><td>Affinity propagation</td>\n",
    "<td>damping, sample preference</td>\n",
    "<td>Not scalable with n_samples</td>\n",
    "<td>Many clusters, uneven cluster size, non-flat geometry</td>\n",
    "<td>Graph distance (e.g. nearest-neighbor graph)</td>\n",
    "</tr>\n",
    "<tr><td>Mean-shift</td>\n",
    "<td>bandwidth</td>\n",
    "<td>Not scalable with <span class=\"pre\">n_samples</span></td>\n",
    "<td>Many clusters, uneven cluster size, non-flat geometry</td>\n",
    "<td>Distances between points</td>\n",
    "</tr>\n",
    "<tr><td>Spectral clustering</td>\n",
    "<td>number of clusters</td>\n",
    "<td>Medium <span class=\"pre\">n_samples</span>, small <span class=\"pre\">n_clusters</span></td>\n",
    "<td>Few clusters, even cluster size, non-flat geometry</td>\n",
    "<td>Graph distance (e.g. nearest-neighbor graph)</td>\n",
    "</tr>\n",
    "<tr><td>Ward hierarchical clustering</td>\n",
    "<td>number of clusters</td>\n",
    "<td>Large <span class=\"pre\">n_samples</span> and <span class=\"pre\">n_clusters</span></td>\n",
    "<td>Many clusters, possibly connectivity constraints</td>\n",
    "<td>Distances between points</td>\n",
    "</tr>\n",
    "<tr><td>Agglomerative clustering</td>\n",
    "<td>number of clusters, linkage type, distance</td>\n",
    "<td>Large <span class=\"pre\">n_samples</span> and <span class=\"pre\">n_clusters</span></td>\n",
    "<td>Many clusters, possibly connectivity constraints, non Euclidean\n",
    "distances</td>\n",
    "<td>Any pairwise distance</td>\n",
    "</tr>\n",
    "<tr><td>DBSCAN</td>\n",
    "<td>neighborhood size</td>\n",
    "<td>Very large <span class=\"pre\">n_samples</span>, medium <span class=\"pre\">n_clusters</span></td>\n",
    "<td>Non-flat geometry, uneven cluster sizes</td>\n",
    "<td>Distances between nearest points</td>\n",
    "</tr>\n",
    "<tr><td>Gaussian mixtures</td>\n",
    "<td>many</td>\n",
    "<td>Not scalable</td>\n",
    "<td>Flat geometry, good for density estimation</td>\n",
    "<td>Mahalanobis distances to  centers</td>\n",
    "</tr>\n",
    "<tr><td>Birch</td>\n",
    "<td>branching factor, threshold, optional global clusterer.</td>\n",
    "<td>Large <span class=\"pre\">n_clusters</span> and <span class=\"pre\">n_samples</span></td>\n",
    "<td>Large dataset, outlier removal, data reduction.</td>\n",
    "<td>Euclidean distance between points</td>\n",
    "</tr>\n",
    "</tbody>\n",
    "</table>\n",
    "Source: http://scikit-learn.org/stable/modules/clustering.html"
   ]
  },
  {
   "cell_type": "markdown",
   "metadata": {},
   "source": [
    "<div class=\"span5 alert alert-info\">\n",
    "<h3>Exercise Set VI</h3>\n",
    "\n",
    "<p><b>Exercise:</b> Try clustering using the following algorithms. </p>\n",
    "<ol>\n",
    "<li>Affinity propagation\n",
    "<li>Spectral clustering\n",
    "<li>Agglomerative clustering\n",
    "<li>DBSCAN\n",
    "</ol>\n",
    "<p>How do their results compare? Which performs the best? Tell a story why you think it performs the best.</p>\n",
    "</div>\n"
   ]
  },
  {
   "cell_type": "code",
   "execution_count": 26,
   "metadata": {},
   "outputs": [
    {
     "data": {
      "text/plain": [
       "<matplotlib.collections.PathCollection at 0x20d8e1e4278>"
      ]
     },
     "execution_count": 26,
     "metadata": {},
     "output_type": "execute_result"
    },
    {
     "data": {
      "image/png": "[encoded data removed]",
      "text/plain": [
       "<Figure size 432x288 with 1 Axes>"
      ]
     },
     "metadata": {
      "needs_background": "light"
     },
     "output_type": "display_data"
    }
   ],
   "source": [
    "# Your turn\n",
    "from sklearn.cluster import AffinityPropagation\n",
    "\n",
    "labels = AffinityPropagation().fit_predict(marketing_df[x_cols])\n",
    "\n",
    "plt.scatter(mark_2d[:,0],mark_2d[:,1],c=labels, cmap='jet')"
   ]
  },
  {
   "cell_type": "code",
   "execution_count": 28,
   "metadata": {},
   "outputs": [
    {
     "data": {
      "text/plain": [
       "<matplotlib.collections.PathCollection at 0x20d8e2b30b8>"
      ]
     },
     "execution_count": 28,
     "metadata": {},
     "output_type": "execute_result"
    },
    {
     "data": {
      "image/png": "[encoded data removed]",
      "text/plain": [
       "<Figure size 432x288 with 1 Axes>"
      ]
     },
     "metadata": {
      "needs_background": "light"
     },
     "output_type": "display_data"
    }
   ],
   "source": [
    "from sklearn.cluster import SpectralClustering\n",
    "\n",
    "labels = SpectralClustering(n_clusters=4, assign_labels=\"discretize\").fit_predict(marketing_df[x_cols])\n",
    "\n",
    "plt.scatter(mark_2d[:,0],mark_2d[:,1],c=labels, cmap='jet')"
   ]
  },
  {
   "cell_type": "code",
   "execution_count": 29,
   "metadata": {},
   "outputs": [
    {
     "data": {
      "text/plain": [
       "<matplotlib.collections.PathCollection at 0x20d8e301128>"
      ]
     },
     "execution_count": 29,
     "metadata": {},
     "output_type": "execute_result"
    },
    {
     "data": {
      "image/png": "[encoded data removed]",
      "text/plain": [
       "<Figure size 432x288 with 1 Axes>"
      ]
     },
     "metadata": {
      "needs_background": "light"
     },
     "output_type": "display_data"
    }
   ],
   "source": [
    "#Agglomerative clustering\n",
    "\n",
    "from sklearn.cluster import AgglomerativeClustering\n",
    "\n",
    "labels = AgglomerativeClustering().fit_predict(marketing_df[x_cols])\n",
    "\n",
    "plt.scatter(mark_2d[:,0],mark_2d[:,1],c=labels, cmap='jet')"
   ]
  },
  {
   "cell_type": "code",
   "execution_count": 30,
   "metadata": {},
   "outputs": [
    {
     "data": {
      "text/plain": [
       "<matplotlib.collections.PathCollection at 0x20d8e34b390>"
      ]
     },
     "execution_count": 30,
     "metadata": {},
     "output_type": "execute_result"
    },
    {
     "data": {
      "image/png": "[encoded data removed]",
      "text/plain": [
       "<Figure size 432x288 with 1 Axes>"
      ]
     },
     "metadata": {
      "needs_background": "light"
     },
     "output_type": "display_data"
    }
   ],
   "source": [
    "#DBSCAN\n",
    "\n",
    "from sklearn.cluster import DBSCAN\n",
    "\n",
    "labels = DBSCAN(eps=1.5, min_samples=2).fit_predict(marketing_df[x_cols])\n",
    "\n",
    "plt.scatter(mark_2d[:,0],mark_2d[:,1],c=labels, cmap='jet')"
   ]
  },
  {
   "cell_type": "code",
   "execution_count": null,
   "metadata": {},
   "outputs": [],
   "source": [
    "#Agglomerative clustering seems the most optimal with 2 clusters "
   ]
  }
 ],
 "metadata": {
  "anaconda-cloud": {},
  "kernelspec": {
   "display_name": "Python 3",
   "language": "python",
   "name": "python3"
  },
  "language_info": {
   "codemirror_mode": {
    "name": "ipython",
    "version": 3
   },
   "file_extension": ".py",
   "mimetype": "text/x-python",
   "name": "python",
   "nbconvert_exporter": "python",
   "pygments_lexer": "ipython3",
   "version": "3.6.6"
  }
 },
 "nbformat": 4,
 "nbformat_minor": 1
}
