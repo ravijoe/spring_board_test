{
 "cells": [
  {
   "cell_type": "markdown",
   "metadata": {},
   "source": [
    "# Inferential statistics II - Bootstrapping"
   ]
  },
  {
   "cell_type": "markdown",
   "metadata": {},
   "source": [
    "## Introduction"
   ]
  },
  {
   "cell_type": "markdown",
   "metadata": {},
   "source": [
    "In the previous frequentist mini-projects, you did frequentist calculations to perform inference from a sample of data. Such inference relies on theory largely developed from the 19th-Century onwards that is subject to certain assumptions or theoretical limits. These are fine if those assumptions hold for the particular case you're working on, and what you want to do has a known theoretical distribution (for example the mean of a sampling distribution that we looked at in the previous mini-project.)"
   ]
  },
  {
   "cell_type": "markdown",
   "metadata": {},
   "source": [
    "In this mini-project, you'll use the same medical charge data you used in the frequentist inference mini-project, but this time you'll make inferences about the population using bootstrapping (ie. simulating repeated re-runs of an experiment.) If frequentism is about using assumptions and theoretical results to calculate what we expect to happen were an experiment to be run again and again and again, then bootstrapping is about using computing power to essentially re-run the sample draw again and again and again to see what actually happens."
   ]
  },
  {
   "cell_type": "markdown",
   "metadata": {},
   "source": [
    "## Prerequisites"
   ]
  },
  {
   "cell_type": "markdown",
   "metadata": {},
   "source": [
    "While these exercises do not strictly depend on these concepts, we encourage you to complete the previous mini-projects before starting this one so that you can approach this assignment with a good understanding of frequentist concepts like:\n",
    "* the _z_-statistic\n",
    "* the _t_-statistic\n",
    "* the difference and relationship between the two\n",
    "* the Central Limit Theorem, its assumptions and consequences\n",
    "* how to estimate the population mean and standard deviation from a sample\n",
    "* the concept of a sampling distribution of a test statistic, particularly for the mean\n",
    "* how to combine these concepts to calculate confidence intervals and p-values\n",
    "* how those confidence intervals and p-values allow you to perform hypothesis (or A/B) tests"
   ]
  },
  {
   "cell_type": "markdown",
   "metadata": {},
   "source": [
    "To complete mini-project, it's important that you first complete the bootstrap resources listed in this subunit, as they contain valuable information about how to calculate bootstrap replicates of summary statistics. Having an basic understanding of what confidence intervals and p-values are will also be helpful (we touch on them in this mini-project, but please speak to your mentor or conduct individual research if you'd like to learn more.) "
   ]
  },
  {
   "cell_type": "code",
   "execution_count": 1,
   "metadata": {},
   "outputs": [],
   "source": [
    "import pandas as pd\n",
    "import numpy as np\n",
    "from numpy.random import seed\n",
    "import matplotlib.pyplot as plt"
   ]
  },
  {
   "cell_type": "markdown",
   "metadata": {},
   "source": [
    "## Medical charge data set"
   ]
  },
  {
   "cell_type": "code",
   "execution_count": 2,
   "metadata": {},
   "outputs": [],
   "source": [
    "med_charges = pd.read_csv('data/insurance2.csv')"
   ]
  },
  {
   "cell_type": "code",
   "execution_count": 3,
   "metadata": {},
   "outputs": [
    {
     "data": {
      "text/plain": [
       "<bound method NDFrame.head of       age  sex     bmi  children  smoker  region      charges  insuranceclaim\n",
       "0      19    0  27.900         0       1       3  16884.92400               1\n",
       "1      18    1  33.770         1       0       2   1725.55230               1\n",
       "2      28    1  33.000         3       0       2   4449.46200               0\n",
       "3      33    1  22.705         0       0       1  21984.47061               0\n",
       "4      32    1  28.880         0       0       1   3866.85520               1\n",
       "5      31    0  25.740         0       0       2   3756.62160               0\n",
       "6      46    0  33.440         1       0       2   8240.58960               1\n",
       "7      37    0  27.740         3       0       1   7281.50560               0\n",
       "8      37    1  29.830         2       0       0   6406.41070               0\n",
       "9      60    0  25.840         0       0       1  28923.13692               0\n",
       "10     25    1  26.220         0       0       0   2721.32080               1\n",
       "11     62    0  26.290         0       1       2  27808.72510               1\n",
       "12     23    1  34.400         0       0       3   1826.84300               1\n",
       "13     56    0  39.820         0       0       2  11090.71780               1\n",
       "14     27    1  42.130         0       1       2  39611.75770               1\n",
       "15     19    1  24.600         1       0       3   1837.23700               0\n",
       "16     52    0  30.780         1       0       0  10797.33620               1\n",
       "17     23    1  23.845         0       0       0   2395.17155               0\n",
       "18     56    1  40.300         0       0       3  10602.38500               1\n",
       "19     30    1  35.300         0       1       3  36837.46700               1\n",
       "20     60    0  36.005         0       0       0  13228.84695               1\n",
       "21     30    0  32.400         1       0       3   4149.73600               1\n",
       "22     18    1  34.100         0       0       2   1137.01100               1\n",
       "23     34    0  31.920         1       1       0  37701.87680               1\n",
       "24     37    1  28.025         2       0       1   6203.90175               0\n",
       "25     59    0  27.720         3       0       2  14001.13380               1\n",
       "26     63    0  23.085         0       0       0  14451.83515               0\n",
       "27     55    0  32.775         2       0       1  12268.63225               0\n",
       "28     23    1  17.385         1       0       1   2775.19215               1\n",
       "29     31    1  36.300         2       1       3  38711.00000               1\n",
       "...   ...  ...     ...       ...     ...     ...          ...             ...\n",
       "1308   25    0  30.200         0       1       3  33900.65300               1\n",
       "1309   41    1  32.200         2       0       3   6875.96100               0\n",
       "1310   42    1  26.315         1       0       1   6940.90985               0\n",
       "1311   33    0  26.695         0       0       1   4571.41305               1\n",
       "1312   34    1  42.900         1       0       3   4536.25900               1\n",
       "1313   19    0  34.700         2       1       3  36397.57600               1\n",
       "1314   30    0  23.655         3       1       1  18765.87545               0\n",
       "1315   18    1  28.310         1       0       0  11272.33139               0\n",
       "1316   19    0  20.600         0       0       3   1731.67700               0\n",
       "1317   18    1  53.130         0       0       2   1163.46270               1\n",
       "1318   35    1  39.710         4       0       0  19496.71917               0\n",
       "1319   39    0  26.315         2       0       1   7201.70085               0\n",
       "1320   31    1  31.065         3       0       1   5425.02335               0\n",
       "1321   62    1  26.695         0       1       0  28101.33305               1\n",
       "1322   62    1  38.830         0       0       2  12981.34570               1\n",
       "1323   42    0  40.370         2       1       2  43896.37630               1\n",
       "1324   31    1  25.935         1       0       1   4239.89265               0\n",
       "1325   61    1  33.535         0       0       0  13143.33665               1\n",
       "1326   42    0  32.870         0       0       0   7050.02130               1\n",
       "1327   51    1  30.030         1       0       2   9377.90470               1\n",
       "1328   23    0  24.225         2       0       0  22395.74424               0\n",
       "1329   52    1  38.600         2       0       3  10325.20600               1\n",
       "1330   57    0  25.740         2       0       2  12629.16560               1\n",
       "1331   23    0  33.400         0       0       3  10795.93733               1\n",
       "1332   52    0  44.700         3       0       3  11411.68500               0\n",
       "1333   50    1  30.970         3       0       1  10600.54830               0\n",
       "1334   18    0  31.920         0       0       0   2205.98080               1\n",
       "1335   18    0  36.850         0       0       2   1629.83350               1\n",
       "1336   21    0  25.800         0       0       3   2007.94500               0\n",
       "1337   61    0  29.070         0       1       1  29141.36030               1\n",
       "\n",
       "[1338 rows x 8 columns]>"
      ]
     },
     "execution_count": 3,
     "metadata": {},
     "output_type": "execute_result"
    }
   ],
   "source": [
    "med_charges.head"
   ]
  },
  {
   "cell_type": "markdown",
   "metadata": {},
   "source": [
    "In the previous assignment, you used the frequentist approach to estimate the lower limit for the 95% confidence interval on the mean hospital charge. This approach relies on statistical theory that has been developed over the years and is also limited to statistics for which theoretical results on the sampling distribution exist. These results are remarkably useful and applicable much of the time and under a surprisingly wide range of conditions."
   ]
  },
  {
   "cell_type": "markdown",
   "metadata": {},
   "source": [
    "Having calculated the 95% lower confidence interval using frequentist theory in the previous exercise, you'll now use bootstrap inference to verify your calculations and check that you get consistent results without making the assumptions required before. After all, the distribution of charges really was very non-normal."
   ]
  },
  {
   "cell_type": "markdown",
   "metadata": {},
   "source": [
    "__Q:__ Use bootstrap sampling to estimate the same 95% confidence interval lower limit as before."
   ]
  },
  {
   "cell_type": "markdown",
   "metadata": {},
   "source": [
    "__A:__"
   ]
  },
  {
   "cell_type": "code",
   "execution_count": 4,
   "metadata": {},
   "outputs": [
    {
     "data": {
      "text/plain": [
       "array([12624.86211913, 13918.00929997])"
      ]
     },
     "execution_count": 4,
     "metadata": {},
     "output_type": "execute_result"
    }
   ],
   "source": [
    "np.random.seed(47)\n",
    "N_rep = 10000\n",
    "\n",
    "def bootstrap_replicate_1d(data, func):\n",
    "    return func(np.random.choice(data, size=len(data)))\n",
    "\n",
    "\n",
    "def draw_bs_reps(data, func, size=1):\n",
    "    return np.array([bootstrap_replicate_1d(data, func) for _ in range(size)])\n",
    "bs_replicates = draw_bs_reps(med_charges['charges'].values, np.mean, size=N_rep)\n",
    "\n",
    "conf_int = np.percentile(bs_replicates, [2.5, 97.5])\n",
    "conf_int"
   ]
  },
  {
   "cell_type": "markdown",
   "metadata": {},
   "source": [
    "If you performed 10000 replicates immediately after setting the random seed to 47, you should get the value 12724 here, which compares very well with the value 12725 obtained using the _t_-distribution confidence interval previously. It is a most pleasant result to see the predictions of classical frequentist theory match with results that are now possible through the number-crunching ability of computers."
   ]
  },
  {
   "cell_type": "markdown",
   "metadata": {},
   "source": [
    "Remember, in the previous mini-projects, we saw that there are two ways of performing a _t_-test from a sample, depending on whether we can assume the groups have equal variance or not. We can actually easily test this using the bootstrap approach!"
   ]
  },
  {
   "cell_type": "markdown",
   "metadata": {},
   "source": [
    "__Q:__ Calculate the 95% confidence interval for the difference between the standard deviations of insurance and non-insurance claim charges (insured - non-insured). Calculate the differences over 10000 replicates. Plot the histogram of values and mark the locations of the percentiles. State the null and alternative hypothesis and comment on whether you would retain or reject the null hypothesis in this case and why."
   ]
  },
  {
   "cell_type": "markdown",
   "metadata": {},
   "source": [
    "__A:__"
   ]
  },
  {
   "cell_type": "code",
   "execution_count": 5,
   "metadata": {},
   "outputs": [],
   "source": [
    "# g1 =med_charges[med_charges.insuranceclaim==0]['charges'].values\n",
    "# g2 = med_charges[med_charges.insuranceclaim==1]['charges'].values\n",
    "# # print(g2.std()-g1.std())\n",
    "\n",
    "\n",
    "# # ci = [g1.mean()-1.96*g1.std()/(len(g1))**0.5, g2.mean()-1.96*g2.std()/(len(g2))**0.5]\n",
    "# # ci\n",
    "# std1=[]\n",
    "# for _ in range(10000):\n",
    "#     sample_std1=np.random.choice(g1,size=10).std()\n",
    "#     std1.append(sample_std1)\n",
    "    \n",
    "# std2=[]\n",
    "# for _ in range(10000):\n",
    "#     sample_std2=np.random.choice(g2,size=10).std()\n",
    "#     std2.append(sample_std2)    \n",
    "ins0 = med_charges.loc[med_charges.insuranceclaim == 0]\n",
    "\n",
    "# not insured\n",
    "ins1 = med_charges.loc[med_charges.insuranceclaim == 1]"
   ]
  },
  {
   "cell_type": "code",
   "execution_count": null,
   "metadata": {},
   "outputs": [],
   "source": [
    "np.random.seed(47)\n",
    "N_rep = 10000\n",
    "\n",
    "nonins_bs_replicates = draw_bs_reps(ins0.charges, np.std, N_rep)\n",
    "ins_bs_replicates = draw_bs_reps(ins1.charges, np.std, N_rep)\n",
    "\n",
    "diffs = ins_bs_replicates - nonins_bs_replicates\n",
    "\n",
    "print(\"insured\\n\", ins_bs_replicates)\n",
    "print(\"not insured\\n\", nonins_bs_replicates)\n",
    "print(\"diffs\\n\", diffs)"
   ]
  },
  {
   "cell_type": "code",
   "execution_count": 6,
   "metadata": {},
   "outputs": [
    {
     "data": {
      "text/plain": [
       "Text(0, 0.5, 'Number of People')"
      ]
     },
     "execution_count": 6,
     "metadata": {},
     "output_type": "execute_result"
    },
    {
     "data": {
      "image/png": "[encoded data removed]",
      "text/plain": [
       "<Figure size 432x288 with 1 Axes>"
      ]
     },
     "metadata": {
      "needs_background": "light"
     },
     "output_type": "display_data"
    }
   ],
   "source": [
    "axvline_kwargs = {\"linestyle\" : \"dashed\", \"linewidth\" : \"1\"} \n",
    "diffs_s = pd.Series(diffs)\n",
    "diffs_s.hist(bins=20, grid=False,\n",
    "           figsize=(14,8), xlabelsize=10, edgecolor='k')\n",
    "plt.xlabel(\"Dollars\", fontsize=15)\n",
    "plt.ylabel(\"Frequency\",fontsize=15)\n",
    "plt.axvline(np.percentile(diffs_s, [97.5]), **axvline_kwargs, label=\"2.5%\")\n",
    "plt.axvline(diffs_s.mean(), **axvline_kwargs, color=\"red\", label=\"mean\")\n",
    "plt.axvline(np.percentile(diffs_s, [2.5]), **axvline_kwargs, label=\"97.5%\")\n",
    "plt.legend(loc='upper right')\n",
    "plt.show()"
   ]
  },
  {
   "cell_type": "code",
   "execution_count": 7,
   "metadata": {},
   "outputs": [
    {
     "data": {
      "text/plain": [
       "7151.392789878446"
      ]
     },
     "execution_count": 7,
     "metadata": {},
     "output_type": "execute_result"
    }
   ],
   "source": [
    "conf_int = np.percentile(diffs, [2.5, 97.5]) # 95% \n",
    "lower, upper = conf_int\n",
    "print(\"The 95% confidence interval is between\", round(lower,2), \"and\", round(upper,2))"
   ]
  },
  {
   "cell_type": "code",
   "execution_count": null,
   "metadata": {},
   "outputs": [],
   "source": []
  },
  {
   "cell_type": "code",
   "execution_count": null,
   "metadata": {},
   "outputs": [],
   "source": []
  },
  {
   "cell_type": "markdown",
   "metadata": {},
   "source": [
    "## Confidence interval and p-value"
   ]
  },
  {
   "cell_type": "markdown",
   "metadata": {},
   "source": [
    "The confidence interval above is often a useful quantity to estimate. If we wish to limit our expected probability of making a Type I error (where we wrongly reject the null hypothesis, and it is, instead, true) to $\\alpha$, the associated confidence interval is our estimate of the interval within which we expect the true population value to be found $100\\times(1 - \\alpha)$% of the time we do this test. In the above we performed bootstrap replicates to estimate the interval and reject the null hypothesis if this interval did not contain zero. You will sometimes see such an interval reported in the output of statistical functions.\n",
    "\n",
    "The partner of the confidence interval is the p-value. The p-value and the confidence interval are linked through our choice of $\\alpha$. The p-value tells us how likely it is, under the null hypothesis, to get an outcome at least as extreme as what was observed. If this fails to reach the level of our _pre-specified_ $\\alpha$, we decide the null hypothesis is sufficiently unlikely to be true and thus reject it. To calculate this p-value via the bootstrap, we have to put ourselves in a position where we are simulating the null hypothesis being true and then calculate the fraction of times we observe a result at least as extreme as that actually observed.\n",
    "\n",
    "Remember how, previously, you used the _t_-test to calculate the p-value for the observed difference between the means of insured and non-insured medical cases. We're now going to repeat this, this time using the bootstrap approach.\n",
    "\n",
    "__Q:__ Perform a bootstrapped hypothesis test at the 5% significance level ($\\alpha = 0.05$) to calculate the p-value of the observed difference between insurance and non-insurance charges, state your null and alternative hypotheses and whether you retain or reject the null hypothesis for the given significance level."
   ]
  },
  {
   "cell_type": "markdown",
   "metadata": {},
   "source": [
    "__A:__"
   ]
  },
  {
   "cell_type": "code",
   "execution_count": 12,
   "metadata": {},
   "outputs": [],
   "source": [
    "\n",
    "def diff_of_means(data_1, data_2):\n",
    "    \"\"\"\n",
    "    Difference in means of two arrays.\n",
    "    data1 - data2\n",
    "    \"\"\"\n",
    "\n",
    "    # The difference of means of data_1, data_2\n",
    "    diff = np.mean(data_1) - np.mean(data_2)\n",
    "\n",
    "    return diff\n",
    "#end_def"
   ]
  },
  {
   "cell_type": "code",
   "execution_count": null,
   "metadata": {},
   "outputs": [],
   "source": [
    "# ins0.charges is the Series/array of interest\n",
    "ins0 = med_charges.loc[med_charges.insuranceclaim == 0]\n",
    "ins0_charges = ins0.charges.values # numpy array\n",
    "\n",
    "# not insured\n",
    "# ins1.charges is the Series/array of interest\n",
    "ins1 = med_charges.loc[med_charges.insuranceclaim == 1]\n",
    "ins1_charges = ins1.charges.values # numpy array\n"
   ]
  },
  {
   "cell_type": "code",
   "execution_count": null,
   "metadata": {},
   "outputs": [],
   "source": [
    "\n",
    "empirical_diff_means = diff_of_means(ins1.charges, ins0.charges)\n",
    "\n",
    "# Mean of all charges (if insurance doesn't matter, this is relevant)\n",
    "# This is equivalent to the mean of the concatenated sub-populations\n",
    "mean_charges = np.mean(med_charges.charges)\n",
    "\n",
    "# Generate shifted arrays\n",
    "ins0_shifted = ins0_charges - np.mean(ins0_charges) + mean_charges\n",
    "ins1_shifted = ins1_charges - np.mean(ins1_charges) + mean_charges"
   ]
  },
  {
   "cell_type": "code",
   "execution_count": null,
   "metadata": {},
   "outputs": [],
   "source": [
    "# Compute 10,000 bootstrap replicates from shifted arrays\n",
    "nonins_bs_replicates = draw_bs_reps(ins0_shifted, np.mean, size=10000)\n",
    "ins_bs_replicates = draw_bs_reps(ins1_shifted, np.mean, size=10000)\n",
    "\n",
    "# Get replicates of difference of means\n",
    "# subtracing in the same order as for empirical_diff_means\n",
    "bs_replicates_diff = ins_bs_replicates - nonins_bs_replicates\n",
    "\n",
    "# Compute and print p-value\n",
    "p = np.sum(bs_replicates_diff >= empirical_diff_means) / len(bs_replicates_diff)\n",
    "\n",
    "print('p-value =', p)"
   ]
  },
  {
   "cell_type": "code",
   "execution_count": null,
   "metadata": {},
   "outputs": [],
   "source": []
  },
  {
   "cell_type": "code",
   "execution_count": null,
   "metadata": {},
   "outputs": [],
   "source": [
    "# we can reject null hypothesis so there is some relation between charges and insurance claim"
   ]
  },
  {
   "cell_type": "code",
   "execution_count": null,
   "metadata": {},
   "outputs": [],
   "source": []
  },
  {
   "cell_type": "code",
   "execution_count": null,
   "metadata": {},
   "outputs": [],
   "source": []
  },
  {
   "cell_type": "markdown",
   "metadata": {},
   "source": [
    "__Q:__ To put the above result in perspective, plot the histogram of your bootstrapped differences along with lines marking the locations of the observed difference. (Why would we plot more than one line, given that we only have one observed difference?)"
   ]
  },
  {
   "cell_type": "markdown",
   "metadata": {},
   "source": [
    "__A:__"
   ]
  },
  {
   "cell_type": "code",
   "execution_count": null,
   "metadata": {},
   "outputs": [],
   "source": [
    "axvline_kwargs = {\"linestyle\" : \"dashed\", \"linewidth\" : \"1\"} \n",
    "\n",
    "plt.figure(figsize=(12,8))\n",
    "\n",
    "plt.hist(ins_bs_replicates, bins=20, label=\"insurance means\")\n",
    "plt.hist(nonins_bs_replicates, bins=20, label=\"non-insurance means\")\n",
    "plt.hist(bs_replicates_diff, bins=20, label=\"difference in means\")\n",
    "plt.xlabel(\"Dollars\", fontsize=15)\n",
    "plt.ylabel(\"Frequency\",fontsize=15)\n",
    "plt.axvline(empirical_diff_means, **axvline_kwargs, label=\"empirical mean difference\")\n",
    "plt.axvline(mean_charges, **axvline_kwargs, color=\"k\", label=\"mean of all charges\")\n",
    "plt.legend(loc='best')\n",
    "plt.show()"
   ]
  },
  {
   "cell_type": "markdown",
   "metadata": {},
   "source": [
    "__Q:__ Compare your p-value above with that obtained using the _t_-test function in the previous assignment. Do you think you would want to try to perform enough bootstrap replicates to observe a random difference as large as that we did observe?"
   ]
  },
  {
   "cell_type": "markdown",
   "metadata": {},
   "source": [
    "__A:__ Not required since we have already found out the differences "
   ]
  },
  {
   "cell_type": "markdown",
   "metadata": {},
   "source": [
    "__Q:__ Consider the two variants of the _t_-test we performed in the previous assignment. Which one would you use now?"
   ]
  },
  {
   "cell_type": "markdown",
   "metadata": {},
   "source": [
    "__A:__ one tailed and two tailed . we will use two tailed test"
   ]
  },
  {
   "cell_type": "markdown",
   "metadata": {},
   "source": [
    "__Q:__ If, instead of being asked whether the means of two groups were different, you were working with an ad-recommender team who wanted to release a new recommendation algorithm, and you were looking at click-through rate both for the current algorithm (call it A) and from trials of their new algorithm (call it B), would you perform a two-sided test as above? What would be your null and alternative hypotheses and what would be the real-world consequence of rejecting the null hypothesis?"
   ]
  },
  {
   "cell_type": "markdown",
   "metadata": {},
   "source": [
    "__A:__ A has x ctr and B has y . NULL hyp ctr a>b and alternate b>a .  so if null hypothesiis is rejected then they should use new algorithm ."
   ]
  },
  {
   "cell_type": "markdown",
   "metadata": {},
   "source": [
    "# Learning outcomes\n",
    "\n",
    "You've previously applied frequentist methods to calculate confidence intervals, p-values, and perform hypothesis tests. Frequentist methods use theoretical results to calculate what we expect would happen if experiments were to be run again and again and again. Now you've seen how you can do the same things using the bootstrap approach, which does not rely on such theory, and attendant assumptions, but instead literally does run experiments again and again and again.\n",
    "\n",
    "In these exercises, you have:\n",
    "* calculated the same confidence interval lower limit as you did previously\n",
    "* tested the assumption that the variances of the two groups (insured vs. non-insured) were equal - something a bit harder to do using the frequentist method because of the nature of the sampling distribution for variance\n",
    "* calculated the p-value for the difference between the means of the two groups and compared with the result obtained using the previous frequentist approach\n",
    "\n",
    "You are now well equipped to apply the bootstrap approach to a wide variety of problems. Just think about what conditions you wish to recreate in your simulated reruns."
   ]
  }
 ],
 "metadata": {
  "kernelspec": {
   "display_name": "Python 3",
   "language": "python",
   "name": "python3"
  },
  "language_info": {
   "codemirror_mode": {
    "name": "ipython",
    "version": 3
   },
   "file_extension": ".py",
   "mimetype": "text/x-python",
   "name": "python",
   "nbconvert_exporter": "python",
   "pygments_lexer": "ipython3",
   "version": "3.6.6"
  }
 },
 "nbformat": 4,
 "nbformat_minor": 2
}
